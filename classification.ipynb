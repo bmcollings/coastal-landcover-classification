{
 "cells": [
  {
   "cell_type": "markdown",
   "id": "59789344-9c0c-4f7c-be7b-fead80e7109f",
   "metadata": {},
   "source": [
    "# Run coastal classification\n",
    "\n",
    "This code runs the classification for the example region:\n",
    "\n",
    "- Apply the hierarchal rules to classify water, vegetation and intertidal areas.\n",
    "- Run the random forest classifier to identify remaining classes.\n",
    "- Merge all classes into final classification output. \n",
    "\n",
    "This is an interactive example that uses training data acquired for New Zealand for 2019 that is specific to composite imagery derived from the first part of the methodology. To use other imagery and training data, see the generate-training-data notebook."
   ]
  },
  {
   "cell_type": "markdown",
   "id": "aac4dae2-3348-410c-9dd3-ce63b0ff4b8f",
   "metadata": {},
   "source": [
    "### Step 1 - run rules"
   ]
  },
  {
   "cell_type": "code",
   "execution_count": null,
   "id": "39fd4dd5-7163-4ea0-9224-732543596693",
   "metadata": {},
   "outputs": [],
   "source": [
    "# import modules\n",
    "import os\n",
    "from coastal_landcover_classification import classification"
   ]
  },
  {
   "cell_type": "code",
   "execution_count": null,
   "id": "043df84e-2863-43e2-a9eb-fe71804c1d76",
   "metadata": {},
   "outputs": [],
   "source": [
    "# run hierarchal rules to classify water, vegetation and intertidal \n",
    "in_img = 'inputs/example/S2-composite-aoi.kea'\n",
    "classification.apply_rules(in_img, output_directory='outputs', intertidal_indices_band=15) # default intertidal_indices_band=None, if intertidal is not being classified by the rule base."
   ]
  },
  {
   "cell_type": "markdown",
   "id": "270e38ed-8c2f-4a4e-89a2-8dbf4c7b5589",
   "metadata": {},
   "source": [
    "### Step 2 - apply random forest classifier"
   ]
  },
  {
   "cell_type": "code",
   "execution_count": null,
   "id": "0fd85936-d691-40cc-a8d4-ce8a2c9da105",
   "metadata": {},
   "outputs": [],
   "source": [
    "# define inputs\n",
    "spectral_img = 'outputs/supervisedInput.kea' # supervisedInput.kea containing unclassified pixels after running rule base\n",
    "sar_img = 'inputs/example/S1-2019-aoi.kea' # S1-2019-aoi.kea from composite development\n",
    "\n",
    "# apply ML classification\n",
    "classification.classify_random_forest(input_image_list=[spectral_img], input_training_images=[spectral_img, sar_img],\n",
    "                                      training_folder=None) # using NZ training data that corresponds to annual composite images"
   ]
  },
  {
   "cell_type": "markdown",
   "id": "5a38be78-8567-4d85-b622-0f54968ab8c3",
   "metadata": {},
   "source": [
    "### Step 3 - merge all classes"
   ]
  },
  {
   "cell_type": "code",
   "execution_count": null,
   "id": "ecc35144-d759-4781-b8d7-c7319ed0de70",
   "metadata": {},
   "outputs": [],
   "source": [
    "# merge classes into final output \n",
    "classification.merge('outputs', 'KEA') # Can also use GTIFF file format"
   ]
  }
 ],
 "metadata": {
  "kernelspec": {
   "display_name": "nzcc-env-v2",
   "language": "python",
   "name": "nzcc-env-v2"
  },
  "language_info": {
   "codemirror_mode": {
    "name": "ipython",
    "version": 3
   },
   "file_extension": ".py",
   "mimetype": "text/x-python",
   "name": "python",
   "nbconvert_exporter": "python",
   "pygments_lexer": "ipython3",
   "version": "3.9.12"
  }
 },
 "nbformat": 4,
 "nbformat_minor": 5
}
