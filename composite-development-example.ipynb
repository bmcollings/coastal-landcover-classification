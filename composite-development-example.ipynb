{
 "cells": [
  {
   "cell_type": "markdown",
   "id": "8f12745b-616a-4b4d-a861-8c11895a4912",
   "metadata": {},
   "source": [
    "# Generate annual composite image\n",
    "\n",
    "This step uses the Google Earth Engine (GEE) Python api to generate annual composite images of the study region defined by a Polygon or LineString. If using a LineString representing the coastline the coastal zone is generated using a 1500m buffer around the shoreline. If a Polygon, image will match the extent of the region defined by the Polygon. \n",
    "\n",
    "Outputs will be downloaded to the user's Google drive. This step will require the user to have a GEE account and to have the Python api authenticated (https://developers.google.com/earth-engine/guides/python_install). See [README](README.md) for more information.     "
   ]
  },
  {
   "cell_type": "markdown",
   "id": "1fd8c88a-f689-455e-8ac7-ef46bc42b0aa",
   "metadata": {
    "tags": []
   },
   "source": [
    "### Step 1 - generate and download composites\n",
    "\n",
    "composite creation supports Sentinel-2, Landsat 7 and Landsat 8 multispectral sensors and Sentinel-1 SAR. \n",
    "\n",
    "| Sensor | Argument |\n",
    "| :- | :-|\n",
    "| Sentinel-2 | 'S2' |\n",
    "| Sentinel-1 | 'S1' |\n",
    "| Landsat 7 | 'LS7' |\n",
    "| Landsat 8 | 'LS8' |\n",
    "\n",
    "Run the following code block to generate SAR and optical composites for the year 2019 for the Auckland region using shapefile in the ```'inputs/examples/'``` folder."
   ]
  },
  {
   "cell_type": "code",
   "execution_count": 4,
   "id": "c1fd28a5-2eeb-4c90-9ad2-300afd907a65",
   "metadata": {},
   "outputs": [
    {
     "name": "stdout",
     "output_type": "stream",
     "text": [
      "S2\n",
      "['blue', 'green', 'red', 'RE1', 'RE2', 'RE3', 'NIR', 'RE4', 'SWIR1', 'SWIR2']\n",
      "{'state': 'READY', 'description': 'export_S2_2019', 'creation_timestamp_ms': 1658201647310, 'update_timestamp_ms': 1658201647310, 'start_timestamp_ms': 0, 'task_type': 'EXPORT_IMAGE', 'id': 'LAHHFMSNBU2OA2BFE6NB7SU7', 'name': 'projects/earthengine-legacy/operations/LAHHFMSNBU2OA2BFE6NB7SU7'}\n",
      "{'state': 'RUNNING', 'description': 'export_S2_2019', 'creation_timestamp_ms': 1658201647310, 'update_timestamp_ms': 1658201756158, 'start_timestamp_ms': 1658201655741, 'task_type': 'EXPORT_IMAGE', 'attempt': 1, 'id': 'LAHHFMSNBU2OA2BFE6NB7SU7', 'name': 'projects/earthengine-legacy/operations/LAHHFMSNBU2OA2BFE6NB7SU7'}\n",
      "{'state': 'RUNNING', 'description': 'export_S2_2019', 'creation_timestamp_ms': 1658201647310, 'update_timestamp_ms': 1658201876158, 'start_timestamp_ms': 1658201655741, 'task_type': 'EXPORT_IMAGE', 'attempt': 1, 'id': 'LAHHFMSNBU2OA2BFE6NB7SU7', 'name': 'projects/earthengine-legacy/operations/LAHHFMSNBU2OA2BFE6NB7SU7'}\n",
      "{'state': 'RUNNING', 'description': 'export_S2_2019', 'creation_timestamp_ms': 1658201647310, 'update_timestamp_ms': 1658201996168, 'start_timestamp_ms': 1658201655741, 'task_type': 'EXPORT_IMAGE', 'attempt': 1, 'id': 'LAHHFMSNBU2OA2BFE6NB7SU7', 'name': 'projects/earthengine-legacy/operations/LAHHFMSNBU2OA2BFE6NB7SU7'}\n",
      "{'state': 'RUNNING', 'description': 'export_S2_2019', 'creation_timestamp_ms': 1658201647310, 'update_timestamp_ms': 1658202116167, 'start_timestamp_ms': 1658201655741, 'task_type': 'EXPORT_IMAGE', 'attempt': 1, 'id': 'LAHHFMSNBU2OA2BFE6NB7SU7', 'name': 'projects/earthengine-legacy/operations/LAHHFMSNBU2OA2BFE6NB7SU7'}\n",
      "{'state': 'RUNNING', 'description': 'export_S2_2019', 'creation_timestamp_ms': 1658201647310, 'update_timestamp_ms': 1658202236173, 'start_timestamp_ms': 1658201655741, 'task_type': 'EXPORT_IMAGE', 'attempt': 1, 'id': 'LAHHFMSNBU2OA2BFE6NB7SU7', 'name': 'projects/earthengine-legacy/operations/LAHHFMSNBU2OA2BFE6NB7SU7'}\n",
      "{'state': 'RUNNING', 'description': 'export_S2_2019', 'creation_timestamp_ms': 1658201647310, 'update_timestamp_ms': 1658202356186, 'start_timestamp_ms': 1658201655741, 'task_type': 'EXPORT_IMAGE', 'attempt': 1, 'id': 'LAHHFMSNBU2OA2BFE6NB7SU7', 'name': 'projects/earthengine-legacy/operations/LAHHFMSNBU2OA2BFE6NB7SU7'}\n",
      "{'state': 'RUNNING', 'description': 'export_S2_2019', 'creation_timestamp_ms': 1658201647310, 'update_timestamp_ms': 1658202476198, 'start_timestamp_ms': 1658201655741, 'task_type': 'EXPORT_IMAGE', 'attempt': 1, 'id': 'LAHHFMSNBU2OA2BFE6NB7SU7', 'name': 'projects/earthengine-legacy/operations/LAHHFMSNBU2OA2BFE6NB7SU7'}\n",
      "{'state': 'RUNNING', 'description': 'export_S2_2019', 'creation_timestamp_ms': 1658201647310, 'update_timestamp_ms': 1658202596228, 'start_timestamp_ms': 1658201655741, 'task_type': 'EXPORT_IMAGE', 'attempt': 1, 'id': 'LAHHFMSNBU2OA2BFE6NB7SU7', 'name': 'projects/earthengine-legacy/operations/LAHHFMSNBU2OA2BFE6NB7SU7'}\n",
      "{'state': 'RUNNING', 'description': 'export_S2_2019', 'creation_timestamp_ms': 1658201647310, 'update_timestamp_ms': 1658202716253, 'start_timestamp_ms': 1658201655741, 'task_type': 'EXPORT_IMAGE', 'attempt': 1, 'id': 'LAHHFMSNBU2OA2BFE6NB7SU7', 'name': 'projects/earthengine-legacy/operations/LAHHFMSNBU2OA2BFE6NB7SU7'}\n",
      "{'state': 'RUNNING', 'description': 'export_S2_2019', 'creation_timestamp_ms': 1658201647310, 'update_timestamp_ms': 1658202836240, 'start_timestamp_ms': 1658201655741, 'task_type': 'EXPORT_IMAGE', 'attempt': 1, 'id': 'LAHHFMSNBU2OA2BFE6NB7SU7', 'name': 'projects/earthengine-legacy/operations/LAHHFMSNBU2OA2BFE6NB7SU7'}\n"
     ]
    }
   ],
   "source": [
    "# import modules\n",
    "from coastal_landcover_classification import composite\n",
    "import os\n",
    "import tqdm\n",
    "import glob\n",
    "import rsgislib\n",
    "import rsgislib.imageutils \n",
    "\n",
    "# define arguments \n",
    "year = 2019\n",
    "region = 'inputs/examples/auk-coastline.shp'\n",
    "sensor = 'S2'\n",
    "crs = 'EPSG:2193'\n",
    "pixel_size = 20\n",
    "down_folder = 'Auckland'\n",
    "\n",
    "# create optical composite image \n",
    "composite.create_optical_composite(year, region, sensor, crs, pixel_size, use_toa=True, down_folder=down_folder)\n",
    " \n",
    "# create SAR composite image\n",
    "sensor = 'S1'\n",
    "composite.create_sar_composite(year, region, sensor, crs, pixel_size, down_folder=down_folder)\n",
    "\n"
   ]
  },
  {
   "cell_type": "markdown",
   "id": "c15bcdf1-fb10-46db-af49-9a24aaad579a",
   "metadata": {},
   "source": [
    "The output images will be saved to google drive. Download and move them to the ```'inputs/examples/'``` folder before moving onto step 2. "
   ]
  },
  {
   "cell_type": "markdown",
   "id": "9135afbe-ec3b-46ee-b473-6bc2d54171d7",
   "metadata": {},
   "source": [
    "### Step 2 - replace NAN values with integer and mosaic composites with multiple tiles\n",
    "\n"
   ]
  },
  {
   "cell_type": "code",
   "execution_count": 6,
   "id": "6f2f66d3-2f3b-448f-8ad5-231cea6f1722",
   "metadata": {},
   "outputs": [
    {
     "name": "stderr",
     "output_type": "stream",
     "text": [
      "0it [00:00, ?it/s]\n"
     ]
    },
    {
     "ename": "IndexError",
     "evalue": "list index out of range",
     "output_type": "error",
     "traceback": [
      "\u001b[0;31m---------------------------------------------------------------------------\u001b[0m",
      "\u001b[0;31mIndexError\u001b[0m                                Traceback (most recent call last)",
      "Input \u001b[0;32mIn [6]\u001b[0m, in \u001b[0;36m<cell line: 9>\u001b[0;34m()\u001b[0m\n\u001b[1;32m      7\u001b[0m \u001b[38;5;28;01mfor\u001b[39;00m img \u001b[38;5;129;01min\u001b[39;00m glob\u001b[38;5;241m.\u001b[39mglob(\u001b[38;5;124m'\u001b[39m\u001b[38;5;124minputs/examples/S2*\u001b[39m\u001b[38;5;124m'\u001b[39m):\n\u001b[1;32m      8\u001b[0m     img_list\u001b[38;5;241m.\u001b[39mappend(img)\n\u001b[0;32m----> 9\u001b[0m \u001b[43mcomposite\u001b[49m\u001b[38;5;241;43m.\u001b[39;49m\u001b[43mmosaic\u001b[49m\u001b[43m(\u001b[49m\u001b[43mimg_list\u001b[49m\u001b[43m,\u001b[49m\u001b[43m \u001b[49m\u001b[43mnodataVal\u001b[49m\u001b[38;5;241;43m=\u001b[39;49m\u001b[38;5;241;43m-\u001b[39;49m\u001b[38;5;241;43m99\u001b[39;49m\u001b[43m)\u001b[49m\n",
      "File \u001b[0;32m~/Desktop/coastal-landcover-classification/coastal_landcover_classification/composite.py:143\u001b[0m, in \u001b[0;36mmosaic\u001b[0;34m(inputImageList, nodataVal, outputFormat, dataType)\u001b[0m\n\u001b[1;32m    122\u001b[0m \u001b[38;5;124;03m\"\"\"\u001b[39;00m\n\u001b[1;32m    123\u001b[0m \u001b[38;5;124;03mfunction to moasaic group of images in specified folder and populate image with statistics\u001b[39;00m\n\u001b[1;32m    124\u001b[0m \n\u001b[0;32m   (...)\u001b[0m\n\u001b[1;32m    139\u001b[0m \u001b[38;5;124;03moutputImage - mosaiced image\u001b[39;00m\n\u001b[1;32m    140\u001b[0m \u001b[38;5;124;03m\"\"\"\u001b[39;00m\n\u001b[1;32m    142\u001b[0m \u001b[38;5;66;03m# get band names\u001b[39;00m\n\u001b[0;32m--> 143\u001b[0m bandNames \u001b[38;5;241m=\u001b[39m rsgislib\u001b[38;5;241m.\u001b[39mimageutils\u001b[38;5;241m.\u001b[39mget_band_names(\u001b[43minputImageList\u001b[49m\u001b[43m[\u001b[49m\u001b[38;5;241;43m0\u001b[39;49m\u001b[43m]\u001b[49m)\n\u001b[1;32m    144\u001b[0m \u001b[38;5;28mprint\u001b[39m(bandNames)\n\u001b[1;32m    145\u001b[0m outputImage \u001b[38;5;241m=\u001b[39m inputImageList[\u001b[38;5;241m0\u001b[39m][:\u001b[38;5;241m2\u001b[39m] \u001b[38;5;241m+\u001b[39m \u001b[38;5;124m'\u001b[39m\u001b[38;5;124m-composite.kea\u001b[39m\u001b[38;5;124m'\u001b[39m\n",
      "\u001b[0;31mIndexError\u001b[0m: list index out of range"
     ]
    }
   ],
   "source": [
    "# iterate over S1 image\n",
    "for img in tqdm.tqdm(glob.glob('inputs/examples/S1*')):\n",
    "    composite.set_nodata_val(img, -99)\n",
    "    \n",
    "# move into examples folder\n",
    "os.chdir('inputs/examples')\n",
    "    \n",
    "# create img_list and mosaic S2 tiles\n",
    "img_list = []\n",
    "for img in glob.glob('inputs/examples/S2*'):\n",
    "    img_list.append(img)\n",
    "composite.mosaic(img_list, nodataVal=-99)"
   ]
  },
  {
   "cell_type": "markdown",
   "id": "cc07ce97-9b9e-4fb9-98f4-47e9c1917d07",
   "metadata": {},
   "source": [
    "### Step 3 - Mask composites to study area (urban areas and elevation masked) \n",
    "\n",
    "The final step before classification is masking composites images to the area of interest. In this example urban areas have been masked with ancillary data and elevation over 10m is also excluded.\n",
    "\n",
    "GEE imagery is downloaded using the GeoTiff file format. The Kea file format is more efficient and uses less memory and is used in the classification workflow. The kealib library is included in the conda environment.  Users can output files as GTiff by changing the ```out_format``` argument to GTiff and filepath ends to ```'.tif'```."
   ]
  },
  {
   "cell_type": "code",
   "execution_count": null,
   "id": "af5f4c3c-1e0d-4948-85e2-5672de74f472",
   "metadata": {},
   "outputs": [],
   "source": [
    "# define composite images\n",
    "S1 = 'inputs/examples/S1-2019.tif'\n",
    "S2 = 'inputs/examples/S2-composite.kea'\n",
    "aoi = 'inputs/examples/study-area-nztm.kea'\n",
    "out_format = 'KEA'\n",
    "\n",
    "# mask composite images\n",
    "for i in S1, S2:\n",
    "    outImg = i[:-4] + '-aoi.kea'\n",
    "    band_names = rsgislib.imageutils.get_band_names(i)\n",
    "    rsgislib.imageutils.mask_img(i, aoi, outImg, out_format, rsgislib.TYPE_32FLOAT, -99, 0)\n",
    "    rsgislib.imageutils.set_band_names(outImg, band_names)\n",
    "    composite.set_nodata_val(outImg, -99)"
   ]
  },
  {
   "cell_type": "markdown",
   "id": "8953ae89-843a-4511-b0aa-4bc2e88fca7b",
   "metadata": {},
   "source": [
    "The masked composite images are now ready to used in the classification workflow. "
   ]
  }
 ],
 "metadata": {
  "kernelspec": {
   "display_name": "nzcc-env-v2",
   "language": "python",
   "name": "nzcc-env-v2"
  },
  "language_info": {
   "codemirror_mode": {
    "name": "ipython",
    "version": 3
   },
   "file_extension": ".py",
   "mimetype": "text/x-python",
   "name": "python",
   "nbconvert_exporter": "python",
   "pygments_lexer": "ipython3",
   "version": "3.9.12"
  }
 },
 "nbformat": 4,
 "nbformat_minor": 5
}
